{
 "cells": [
  {
   "cell_type": "code",
   "execution_count": null,
   "metadata": {
    "collapsed": false,
    "scrolled": false
   },
   "outputs": [],
   "source": [
    "import Coeus_local \n",
    "\n",
    "# From Command Prompt run: python Coeus_local.py\n",
    "#Coeus_local.main(c=\"/home/pyne-user/Dropbox/UCB/Research/ETAs/Design/Coeus/Code/Tests/files_test_METACODE/test_cs_settings.csv\",\n",
    "#             e=\"/home/pyne-user/Dropbox/UCB/Research/ETAs/Design/Coeus/Code/Tests/files_test_METACODE/test_eta_constraints.csv\",\n",
    "#             o=\"/home/pyne-user/Dropbox/UCB/Research/ETAs/Design/Coeus/Code/Tests/files_test_METACODE/test_obj_spectrum.csv\",\n",
    "#             a=\"/home/pyne-user/Dropbox/UCB/Research/ETAs/Design/Coeus/Code/Tests/files_test_METACODE/test_advantg_settings.csv\",\n",
    "#             mc=\"/home/pyne-user/Dropbox/UCB/Research/ETAs/Design/Coeus/Code/Tests/files_test_METACODE/test_mcnp_settings.csv\",\n",
    "#             s=\"/home/pyne-user/Dropbox/UCB/Research/ETAs/Design/Coeus/Code/Tests/files_test_METACODE/test_source.csv\",\n",
    "#             m=\"/home/pyne-user/Dropbox/UCB/Research/ETAs/Design/Coeus/Code/Tests/files_test_METACODE/test_eta_materials_compendium.csv\")\n",
    "#Coeus_local.main(c=\"/home/pyne-user/Dropbox/UCB/Research/ETAs/Design/Coeus/Inputs/cs_settings.csv\",\n",
    "#             e=\"/home/pyne-user/Dropbox/UCB/Research/ETAs/Design/Coeus/Inputs/eta_constraints.csv\",\n",
    "#             o=\"/home/pyne-user/Dropbox/UCB/Research/ETAs/Design/Coeus/Inputs/obj_spectrum.csv\",\n",
    "#             a=\"/home/pyne-user/Dropbox/UCB/Research/ETAs/Design/Coeus/Inputs/advantg_settings.csv\",\n",
    "#             mc=\"/home/pyne-user/Dropbox/UCB/Research/ETAs/Design/Coeus/Inputs/mcnp_settings.csv\",\n",
    "#             s=\"/home/pyne-user/Dropbox/UCB/Research/ETAs/Design/Coeus/Inputs/source.csv\",\n",
    "#             m=\"/home/pyne-user/Dropbox/UCB/Research/ETAs/Design/Coeus/Inputs/eta_materials_compendium.csv\")\n",
    "\n",
    "Coeus_local.main(restart=False)"
   ]
  },
  {
   "cell_type": "code",
   "execution_count": null,
   "metadata": {
    "collapsed": false
   },
   "outputs": [],
   "source": [
    "python -W ignore Coeus_local.py --obj /home/pyne-user/Dropbox/UCB/Research/ETAs/Design/Coeus/Inputs/obj_spectrum.csv --src /home/pyne-user/Dropbox/UCB/Research/ETAs/Design/Coeus/Inputs/source.csv"
   ]
  },
  {
   "cell_type": "code",
   "execution_count": 30,
   "metadata": {
    "collapsed": false
   },
   "outputs": [
    {
     "name": "stdout",
     "output_type": "stream",
     "text": [
      "84\n",
      "[u'Pr', u'Ni', u'Yb', u'Pd', u'Pt', u'Ru', u'Na', u'Nb', u'Nd', u'Mg', u'Li', u'Dy', u'Y', u'Tl', u'Tm', u'Rb', u'Ti', u'Te', u'Rh', u'Ta', u'Be', u'Xe', u'Pa', u'Ba', u'Tb', u'La', u'Si', u'As', u'U', u'W', u'Gd', u'Fe', u'Br', u'Sr', u'Hf', u'Mo', u'He', u'C', u'B', u'F', u'I', u'H', u'K', u'Mn', u'Lu', u'O', u'Ne', u'P', u'S', u'Th', u'Re', u'Kr', u'Sm', u'V', u'Sc', u'Sb', u'Bi', u'N', u'Os', u'Se', u'Hg', u'Zn', u'Co', u'Ag', u'Cl', u'Ca', u'Ir', u'Eu', u'Al', u'Ce', u'Cd', u'Ho', u'Ge', u'Ar', u'Au', u'Zr', u'Ga', u'In', u'Cs', u'Cr', u'Pb', u'Er', u'Cu', u'Sn']\n",
      "\n",
      "\n",
      "\n",
      "Test mat print mods:\n",
      "C name: Ta\n",
      "C density = 16.6\n",
      "m?\n",
      "     73180 -1.2010e-04\n",
      "     73181 -9.9988e-01\n",
      "\n",
      "     73180\n",
      "yes!!!!!!!!!!!!\n",
      "C name: Ta\n",
      "C density = 16.6\n",
      "m1\n",
      "     73181 -9.9988e-01\n",
      "\n",
      "Si\n",
      "-1.0\n",
      "{140280000: 0.92223, 140290000: 0.046849999999999996, 140300000: 0.030920000000000003}\n",
      "0.92223\n",
      "-1.0\n",
      "14\n",
      "14\n",
      "14\n",
      "Test element: True\n",
      "28.0854987057\n",
      "2.0782850271e+22\n",
      "m?\n",
      "     14029 -1.0000e+00\n",
      "\n",
      "\n",
      "\n",
      "\n"
     ]
    },
    {
     "ename": "KeyError",
     "evalue": "'Air (dry near sea level)'",
     "output_type": "error",
     "traceback": [
      "\u001b[1;31m---------------------------------------------------------------------------\u001b[0m",
      "\u001b[1;31mKeyError\u001b[0m                                  Traceback (most recent call last)",
      "\u001b[1;32m<ipython-input-30-f78e231e4177>\u001b[0m in \u001b[0;36m<module>\u001b[1;34m()\u001b[0m\n\u001b[0;32m     56\u001b[0m \u001b[1;32mprint\u001b[0m \u001b[1;34m\"\\n\\n\"\u001b[0m\u001b[1;33m\u001b[0m\u001b[0m\n\u001b[0;32m     57\u001b[0m \u001b[0mam\u001b[0m\u001b[1;33m=\u001b[0m\u001b[1;36m0\u001b[0m\u001b[1;33m\u001b[0m\u001b[0m\n\u001b[1;32m---> 58\u001b[1;33m \u001b[1;32mprint\u001b[0m \u001b[0mmats\u001b[0m\u001b[1;33m[\u001b[0m\u001b[1;34m'Air (dry near sea level)'\u001b[0m\u001b[1;33m]\u001b[0m\u001b[1;33m.\u001b[0m\u001b[0mcomp\u001b[0m\u001b[1;33m\u001b[0m\u001b[0m\n\u001b[0m\u001b[0;32m     59\u001b[0m \u001b[1;32mprint\u001b[0m \u001b[0mmats\u001b[0m\u001b[1;33m[\u001b[0m\u001b[1;34m'Air (dry near sea level)'\u001b[0m\u001b[1;33m]\u001b[0m\u001b[1;33m.\u001b[0m\u001b[0mcomp\u001b[0m\u001b[1;33m.\u001b[0m\u001b[0mkeys\u001b[0m\u001b[1;33m(\u001b[0m\u001b[1;33m)\u001b[0m\u001b[1;33m\u001b[0m\u001b[0m\n\u001b[0;32m     60\u001b[0m \u001b[1;32mprint\u001b[0m \u001b[0mmats\u001b[0m\u001b[1;33m[\u001b[0m\u001b[1;34m'Air (dry near sea level)'\u001b[0m\u001b[1;33m]\u001b[0m\u001b[1;33m.\u001b[0m\u001b[0mcomp\u001b[0m\u001b[1;33m[\u001b[0m\u001b[0mmats\u001b[0m\u001b[1;33m[\u001b[0m\u001b[1;34m'Air (dry near sea level)'\u001b[0m\u001b[1;33m]\u001b[0m\u001b[1;33m.\u001b[0m\u001b[0mcomp\u001b[0m\u001b[1;33m.\u001b[0m\u001b[0mkeys\u001b[0m\u001b[1;33m(\u001b[0m\u001b[1;33m)\u001b[0m\u001b[1;33m[\u001b[0m\u001b[1;36m0\u001b[0m\u001b[1;33m]\u001b[0m\u001b[1;33m]\u001b[0m\u001b[1;33m\u001b[0m\u001b[0m\n",
      "\u001b[1;31mKeyError\u001b[0m: 'Air (dry near sea level)'"
     ]
    }
   ],
   "source": [
    "from pyne.dbgen.materials_library import make_matslib, make_elements\n",
    "from pyne.data import atomic_mass\n",
    "from pyne.material import Material\n",
    "from NuclearData import Build_Matlib\n",
    "import copy as cp\n",
    "import numpy as np\n",
    "\n",
    "mats = make_matslib('/home/pyne-user/Dropbox/UCB/Research/ETAs/Design/Coeus/Code/Tests/files_test_Coeus/test_eta_materials_compendium.csv')\n",
    "mats=make_elements()\n",
    "\n",
    "#mats=Build_Matlib(mat_path='/home/pyne-user/Dropbox/UCB/Research/ETAs/Design/Coeus/Code/Tests/files_test_Coeus/test_eta_materials_compendium.csv')\n",
    "#for i in mats:\n",
    "#    if mats[i].density==-1:\n",
    "#        print \"STOP IT's BROKE: \", i   \n",
    "        \n",
    "print len(mats.keys())\n",
    "key_lst=mats.keys()\n",
    "print key_lst\n",
    "\n",
    "f=cp.deepcopy(mats['Ta'])\n",
    "mats['O'].density=19.1\n",
    "mats['O'].atoms_per_molecule=1\n",
    "print \"\\n\\n\"\n",
    "\n",
    "print \"Test mat print mods:\"\n",
    "mats['Ta'].density=16.6\n",
    "print mats['Ta'].mcnp()\n",
    "str1=mats['Ta'].mcnp().split('\\n')\n",
    "str1[2]=\"m{}\".format(1)\n",
    "print str1[3][:10]\n",
    "if str1[3][:10]==\"     73180\":\n",
    "    print \"yes!!!!!!!!!!!!\"\n",
    "str2=[]\n",
    "for s in range(0,len(str1)):\n",
    "    if str1[s][:9]!=\"     8018\" and str1[s][:10]!=\"     73180\" and str1[s][:10]!=\"     74180\":\n",
    "        str2.append(str1[s])\n",
    "print \"{}\".format('\\n'.join(\"{}\".format(i) for i in str2))\n",
    "\n",
    "\n",
    "print mats['Si'].metadata['name']\n",
    "print mats['Si'].density\n",
    "print mats['Si'].comp\n",
    "print mats['Si'].comp[140280000]\n",
    "print mats['Si'].atoms_per_molecule\n",
    "\n",
    "for k in mats['Si'].comp:\n",
    "    tk=int(k/1E7)\n",
    "    print tk\n",
    "    \n",
    "print \"Test element:\",all((np.asarray(mats['Si'].comp.keys())/1E7).astype(int)==int(mats['Si'].comp.keys()[0]/1E7))\n",
    "\n",
    "print atomic_mass(mats['Si'].metadata['name'])\n",
    "print Material.number_density(mats['Si'].sub_mat([mats['Si'].comp.keys()[1]]),mats['Si'].density,mats['Si'].atoms_per_molecule)\n",
    "print mats['Si'].sub_mat([mats['Si'].comp.keys()[1]]).mcnp()\n",
    " \n",
    "print \"\\n\\n\"  \n",
    "am=0\n",
    "print mats['Air (dry near sea level)'].comp\n",
    "print mats['Air (dry near sea level)'].comp.keys()\n",
    "print mats['Air (dry near sea level)'].comp[mats['Air (dry near sea level)'].comp.keys()[0]]\n",
    "for k in mats['Air (dry near sea level)'].comp.keys():\n",
    "    am+= atomic_mass(k)*mats['Air (dry near sea level)'].comp[k]\n",
    "print am \n",
    "am=0\n",
    "for k in mats['Si'].comp.keys():\n",
    "    am+= atomic_mass(k)*mats['Si'].comp[k]\n",
    "print am\n",
    "\n",
    "print \"Test element:\",all((np.asarray(mats['Air (dry near sea level)'].comp.keys())/1E7).astype(int)==int(mats['Air (dry near sea level)'].comp.keys()[0]/1E7))\n",
    "\n",
    "print \"\\n\\n\"                    \n",
    "matls=[]\n",
    "matls.append(mats['Al'])\n",
    "matls.insert(0,\"\")\n",
    "print matls\n",
    "print matls[1].metadata['name']\n",
    "\n",
    "assert isinstance(mats['Al'], Material)==True, 'Material in the MCNP geometry must be a Material instance.'\n",
    "\n",
    " "
   ]
  },
  {
   "cell_type": "code",
   "execution_count": 3,
   "metadata": {
    "collapsed": false
   },
   "outputs": [
    {
     "name": "stdout",
     "output_type": "stream",
     "text": [
      "[ 0.          0.          0.          0.          0.          0.          0.\n",
      "  0.          0.          0.00093606  0.00792279  0.01745616  0.00956651\n",
      "  0.02964624  0.01893211  0.04000803  0.0376619   0.06332856  0.03540681\n",
      "  0.03689997  0.0263272   0.03337058  0.02129881  0.02894207  0.01850062\n",
      "  0.03513463  0.03392781  0.03325239  0.01115826  0.07748109  0.02431165\n",
      "  0.01919056  0.00819539  0.0304083   0.01285191  0.01038105  0.00874973\n",
      "  0.00845469  0.00922642  0.01468172  0.01066376  0.05799385  0.0409659\n",
      "  0.08640183  0.03966113  0.00070349]\n",
      "OBJ: [  1.00000000e-06   1.00000000e-06   1.00000000e-06   1.00000000e-06\n",
      "   1.00000000e-06   1.00000000e-06   1.00000000e-06   1.00000000e-06\n",
      "   1.00000000e-06   1.00000000e-06   1.00000000e+00   1.00000000e-06\n",
      "   1.00000000e-06   1.00000000e-06   1.00000000e-06   1.00000000e-06\n",
      "   1.00000000e-06   1.00000000e-06   1.00000000e-06   1.00000000e-06\n",
      "   1.00000000e-06   1.00000000e-06   1.00000000e-06   1.00000000e-06\n",
      "   1.00000000e-06   1.00000000e-06   1.00000000e-06   1.00000000e-06\n",
      "   1.00000000e-06   1.00000000e-06   1.00000000e-06   1.00000000e-06\n",
      "   1.00000000e-06   1.00000000e-06   1.00000000e-06   1.00000000e-06\n",
      "   1.00000000e-06   1.00000000e-06   1.00000000e-06   1.00000000e-06\n",
      "   1.00000000e-06   1.00000000e-06   1.00000000e-06   1.00000000e-06\n",
      "   1.00000000e-06   1.00000000e-06]\n",
      "42124.0408063\n"
     ]
    }
   ],
   "source": [
    "from MCNP_Utilities import Read_MCNP_Output\n",
    "from Utilities import to_NormDiff\n",
    "from Gnowee_Utilities import RelativeLeastSquares\n",
    "from ETA_Utilities import ETA_Parameters\n",
    "\n",
    "eta=ETA_Parameters()\n",
    "eta.read_obj('/home/pyne-user/Dropbox/UCB/Research/ETAs/Design/Coeus/Inputs/obj_spectrum_Verbek.csv')\n",
    "(tally,fissions,weight)=Read_MCNP_Output('/home/pyne-user/Dropbox/UCB/Research/ETAs/Design/Coeus/Results/Population/0/ETA.out', '24', '14')\n",
    "tally=to_NormDiff(tally)\n",
    "print tally\n",
    "print \"OBJ:\",eta.spectrum[:,1]\n",
    "tmp_fit=RelativeLeastSquares(tally,eta.spectrum[:,1])\n",
    "print tmp_fit"
   ]
  },
  {
   "cell_type": "code",
   "execution_count": null,
   "metadata": {
    "collapsed": true
   },
   "outputs": [],
   "source": []
  }
 ],
 "metadata": {
  "kernelspec": {
   "display_name": "Python 2",
   "language": "python",
   "name": "python2"
  },
  "language_info": {
   "codemirror_mode": {
    "name": "ipython",
    "version": 2
   },
   "file_extension": ".py",
   "mimetype": "text/x-python",
   "name": "python",
   "nbconvert_exporter": "python",
   "pygments_lexer": "ipython2",
   "version": "2.7.6"
  }
 },
 "nbformat": 4,
 "nbformat_minor": 0
}
