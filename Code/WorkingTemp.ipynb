{
 "cells": [
  {
   "cell_type": "code",
   "execution_count": null,
   "metadata": {
    "collapsed": false,
    "scrolled": false
   },
   "outputs": [],
   "source": [
    "import Coeus_local \n",
    "\n",
    "# From Command Prompt run: python Coeus_local.py\n",
    "#Coeus_local.main(c=\"/home/pyne-user/Dropbox/UCB/Research/ETAs/Design/Coeus/Code/Tests/files_test_METACODE/test_cs_settings.csv\",\n",
    "#             e=\"/home/pyne-user/Dropbox/UCB/Research/ETAs/Design/Coeus/Code/Tests/files_test_METACODE/test_eta_constraints.csv\",\n",
    "#             o=\"/home/pyne-user/Dropbox/UCB/Research/ETAs/Design/Coeus/Code/Tests/files_test_METACODE/test_obj_spectrum.csv\",\n",
    "#             a=\"/home/pyne-user/Dropbox/UCB/Research/ETAs/Design/Coeus/Code/Tests/files_test_METACODE/test_advantg_settings.csv\",\n",
    "#             mc=\"/home/pyne-user/Dropbox/UCB/Research/ETAs/Design/Coeus/Code/Tests/files_test_METACODE/test_mcnp_settings.csv\",\n",
    "#             s=\"/home/pyne-user/Dropbox/UCB/Research/ETAs/Design/Coeus/Code/Tests/files_test_METACODE/test_source.csv\",\n",
    "#             m=\"/home/pyne-user/Dropbox/UCB/Research/ETAs/Design/Coeus/Code/Tests/files_test_METACODE/test_eta_materials_compendium.csv\")\n",
    "#Coeus_local.main(c=\"/home/pyne-user/Dropbox/UCB/Research/ETAs/Design/Coeus/Inputs/cs_settings.csv\",\n",
    "#             e=\"/home/pyne-user/Dropbox/UCB/Research/ETAs/Design/Coeus/Inputs/eta_constraints.csv\",\n",
    "#             o=\"/home/pyne-user/Dropbox/UCB/Research/ETAs/Design/Coeus/Inputs/obj_spectrum.csv\",\n",
    "#             a=\"/home/pyne-user/Dropbox/UCB/Research/ETAs/Design/Coeus/Inputs/advantg_settings.csv\",\n",
    "#             mc=\"/home/pyne-user/Dropbox/UCB/Research/ETAs/Design/Coeus/Inputs/mcnp_settings.csv\",\n",
    "#             s=\"/home/pyne-user/Dropbox/UCB/Research/ETAs/Design/Coeus/Inputs/source.csv\",\n",
    "#             m=\"/home/pyne-user/Dropbox/UCB/Research/ETAs/Design/Coeus/Inputs/eta_materials_compendium.csv\")\n",
    "\n",
    "Coeus_local.main(restart=False)"
   ]
  },
  {
   "cell_type": "code",
   "execution_count": null,
   "metadata": {
    "collapsed": false
   },
   "outputs": [],
   "source": [
    "python -W ignore Coeus_local.py --obj /home/pyne-user/Dropbox/UCB/Research/ETAs/Design/Coeus/Inputs/obj_spectrum.csv --src /home/pyne-user/Dropbox/UCB/Research/ETAs/Design/Coeus/Inputs/source.csv"
   ]
  },
  {
   "cell_type": "code",
   "execution_count": null,
   "metadata": {
    "collapsed": false
   },
   "outputs": [],
   "source": [
    "from pyne.dbgen.materials_library import make_matslib, make_elements\n",
    "from pyne.data import atomic_mass\n",
    "from pyne.material import Material\n",
    "from NuclearData import Build_Matlib\n",
    "import copy as cp\n",
    "import numpy as np\n",
    "\n",
    "#mats = make_matslib('/home/pyne-user/Dropbox/UCB/Research/ETAs/Design/Coeus/Code/Tests/files_test_Coeus/test_eta_materials_compendium.csv')\n",
    "#mats=make_elements()\n",
    "\n",
    "mats=Build_Matlib(mat_path='/home/pyne-user/Dropbox/UCB/Research/ETAs/Design/Coeus/Code/Tests/files_test_Coeus/test_eta_materials_compendium.csv')\n",
    "for i in mats:\n",
    "    if mats[i].density==-1:\n",
    "        print \"STOP IT's BROKE: \", i   \n",
    "        \n",
    "print len(mats.keys())\n",
    "key_lst=mats.keys()\n",
    "print key_lst\n",
    "\n",
    "f=cp.deepcopy(mats['Si'])\n",
    "mats['Si'].density=19.1\n",
    "mats['Si'].atoms_per_molecule=1\n",
    "print \"\\n\\n\"\n",
    "print mats['Si'].mcnp()\n",
    "print mats['Si'].metadata['name']\n",
    "print mats['Si'].density\n",
    "print mats['Si'].comp\n",
    "print mats['Si'].comp[140280000]\n",
    "print mats['Si'].atoms_per_molecule\n",
    "\n",
    "for k in mats['Si'].comp:\n",
    "    tk=int(k/1E7)\n",
    "    print tk\n",
    "    \n",
    "print \"Test element:\",all((np.asarray(mats['Si'].comp.keys())/1E7).astype(int)==int(mats['Si'].comp.keys()[0]/1E7))\n",
    "\n",
    "print atomic_mass(mats['Si'].metadata['name'])\n",
    "print Material.number_density(mats['Si'].sub_mat([mats['Si'].comp.keys()[1]]),mats['Si'].density,mats['Si'].atoms_per_molecule)\n",
    "print mats['Si'].sub_mat([mats['Si'].comp.keys()[1]]).mcnp()\n",
    " \n",
    "print \"\\n\\n\"  \n",
    "am=0\n",
    "print mats['Air (dry near sea level)'].comp\n",
    "print mats['Air (dry near sea level)'].comp.keys()\n",
    "print mats['Air (dry near sea level)'].comp[mats['Air (dry near sea level)'].comp.keys()[0]]\n",
    "for k in mats['Air (dry near sea level)'].comp.keys():\n",
    "    am+= atomic_mass(k)*mats['Air (dry near sea level)'].comp[k]\n",
    "print am \n",
    "am=0\n",
    "for k in mats['Si'].comp.keys():\n",
    "    am+= atomic_mass(k)*mats['Si'].comp[k]\n",
    "print am\n",
    "\n",
    "print \"Test element:\",all((np.asarray(mats['Air (dry near sea level)'].comp.keys())/1E7).astype(int)==int(mats['Air (dry near sea level)'].comp.keys()[0]/1E7))\n",
    "\n",
    "print \"\\n\\n\"                    \n",
    "matls=[]\n",
    "matls.append(mats['Al'])\n",
    "matls.insert(0,\"\")\n",
    "print matls\n",
    "print matls[1].metadata['name']\n",
    "\n",
    "assert isinstance(mats['Al'], Material)==True, 'Material in the MCNP geometry must be a Material instance.'\n",
    "\n",
    " "
   ]
  },
  {
   "cell_type": "code",
   "execution_count": null,
   "metadata": {
    "collapsed": true
   },
   "outputs": [],
   "source": []
  }
 ],
 "metadata": {
  "kernelspec": {
   "display_name": "Python 2",
   "language": "python",
   "name": "python2"
  },
  "language_info": {
   "codemirror_mode": {
    "name": "ipython",
    "version": 2
   },
   "file_extension": ".py",
   "mimetype": "text/x-python",
   "name": "python",
   "nbconvert_exporter": "python",
   "pygments_lexer": "ipython2",
   "version": "2.7.6"
  }
 },
 "nbformat": 4,
 "nbformat_minor": 0
}
